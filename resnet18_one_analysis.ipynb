{
 "cells": [
  {
   "cell_type": "code",
   "execution_count": null,
   "metadata": {},
   "outputs": [],
   "source": [
    "import pandas as pd\n",
    "import matplotlib.pyplot as plt\n",
    "from pathlib import Path"
   ]
  },
  {
   "cell_type": "code",
   "execution_count": null,
   "metadata": {},
   "outputs": [],
   "source": [
    "data = pd.read_csv('resnet18_eval.csv')\n",
    "data.head()"
   ]
  },
  {
   "cell_type": "code",
   "execution_count": null,
   "metadata": {},
   "outputs": [],
   "source": [
    "SMALL_SIZE = 8\n",
    "MEDIUM_SIZE = 10\n",
    "BIGGER_SIZE = 12\n",
    "\n",
    "plt.rc('font', size=SMALL_SIZE)          # controls default text sizes\n",
    "plt.rc('axes', titlesize=SMALL_SIZE)     # fontsize of the axes title\n",
    "plt.rc('axes', labelsize=MEDIUM_SIZE)    # fontsize of the x and y labels\n",
    "plt.rc('xtick', labelsize=SMALL_SIZE)    # fontsize of the tick labels\n",
    "plt.rc('ytick', labelsize=SMALL_SIZE)    # fontsize of the tick labels\n",
    "plt.rc('legend', fontsize=SMALL_SIZE)    # legend fontsize\n",
    "plt.rc('figure', titlesize=BIGGER_SIZE)  # fontsize of the figure title"
   ]
  },
  {
   "cell_type": "code",
   "execution_count": null,
   "metadata": {},
   "outputs": [],
   "source": [
    "test_list = data['test'].unique().tolist()[5:]\n",
    "image_size_list = data['image size'].unique().tolist()\n",
    "image_size_list.sort()\n",
    "contract_reduce_list = data['contrast reduce'].unique().tolist()\n",
    "\n",
    "print(test_list)\n",
    "print(image_size_list)\n",
    "print(contract_reduce_list)"
   ]
  },
  {
   "cell_type": "code",
   "execution_count": null,
   "metadata": {},
   "outputs": [],
   "source": [
    "output_folder = \"analysis_visual/resnet18/occlusion/contrast_reduce/\"\n",
    "Path(output_folder).mkdir(parents=True, exist_ok=True)\n",
    "for test in test_list:\n",
    "    for image_size in image_size_list:\n",
    "        test_image_size_data = data[(data.test == test) & (data['image size'] == image_size)]\n",
    "        # plt.plot(test_image_size_data['contract reduce'], test_image_size_data['+ accuracy'], label= f'image size = {image_size}')\n",
    "        plt.plot(test_image_size_data['contrast reduce'], test_image_size_data['+ accuracy'], label= '+ accuracy')\n",
    "        plt.plot(test_image_size_data['contrast reduce'], test_image_size_data['- accuracy'], label= '- accuracy')\n",
    "        plt.plot(test_image_size_data['contrast reduce'], test_image_size_data['avg accuracy'], label= 'avg accuracy')\n",
    "        plt.xlabel('contrast reduce') \n",
    "        plt.ylabel('accuracy') \n",
    "        plt.title(f\"Line graph of accuracy with contrast reduce in image size {image_size} for {test}\")\n",
    "        plt.legend()\n",
    "        output_path = output_folder+f\"resnet18_{test}_is{image_size}_bs4_e10_resize0.5.png\"\n",
    "        plt.savefig(output_path)\n",
    "        plt.show()"
   ]
  },
  {
   "cell_type": "code",
   "execution_count": null,
   "metadata": {},
   "outputs": [],
   "source": [
    "output_folder = \"analysis_visual/resnet18/occlusion/image_size/\"\n",
    "Path(output_folder).mkdir(parents=True, exist_ok=True)\n",
    "for test in test_list:\n",
    "    for contract_reduce in contract_reduce_list:\n",
    "        test_contrast_reduce_data = data[(data.test == test) & (data['contrast reduce'] == contract_reduce)]\n",
    "        # plt.plot(test_image_size_data['contract reduce'], test_image_size_data['+ accuracy'], label= f'image size = {image_size}')\n",
    "        plt.plot(test_contrast_reduce_data['image size'], test_contrast_reduce_data['+ accuracy'], label= '+ accuracy')\n",
    "        plt.plot(test_contrast_reduce_data['image size'], test_contrast_reduce_data['- accuracy'], label= '- accuracy')\n",
    "        plt.plot(test_contrast_reduce_data['image size'], test_contrast_reduce_data['avg accuracy'], label= 'avg accuracy')\n",
    "        plt.xlabel('image size') \n",
    "        plt.ylabel('accuracy') \n",
    "        plt.title(f\"Line graph of accuracy with contrast reduce in contrast reduce {contract_reduce} for {test}\")\n",
    "        plt.legend()\n",
    "        output_path = output_folder+f\"resnet18_{test}_cr{contract_reduce}_bs4_e10_resize0.5.png\"\n",
    "        plt.savefig(output_path)\n",
    "        plt.show()"
   ]
  }
 ],
 "metadata": {
  "kernelspec": {
   "display_name": "Python 3",
   "language": "python",
   "name": "python3"
  },
  "language_info": {
   "codemirror_mode": {
    "name": "ipython",
    "version": 3
   },
   "file_extension": ".py",
   "mimetype": "text/x-python",
   "name": "python",
   "nbconvert_exporter": "python",
   "pygments_lexer": "ipython3",
   "version": "3.10.11"
  },
  "orig_nbformat": 4
 },
 "nbformat": 4,
 "nbformat_minor": 2
}
