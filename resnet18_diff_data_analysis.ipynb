{
 "cells": [
  {
   "cell_type": "code",
   "execution_count": null,
   "metadata": {},
   "outputs": [],
   "source": [
    "import pandas as pd\n",
    "import matplotlib.pyplot as plt\n",
    "from pathlib import Path"
   ]
  },
  {
   "cell_type": "code",
   "execution_count": null,
   "metadata": {},
   "outputs": [],
   "source": [
    "data = pd.read_csv('resnet18_eval_for_different_data.csv')\n",
    "data.head()"
   ]
  },
  {
   "cell_type": "code",
   "execution_count": null,
   "metadata": {},
   "outputs": [],
   "source": [
    "SMALL_SIZE = 8\n",
    "MEDIUM_SIZE = 10\n",
    "BIGGER_SIZE = 12\n",
    "\n",
    "plt.rc('font', size=SMALL_SIZE)          # controls default text sizes\n",
    "plt.rc('axes', titlesize=SMALL_SIZE)     # fontsize of the axes title\n",
    "plt.rc('axes', labelsize=MEDIUM_SIZE)    # fontsize of the x and y labels\n",
    "plt.rc('xtick', labelsize=SMALL_SIZE)    # fontsize of the tick labels\n",
    "plt.rc('ytick', labelsize=SMALL_SIZE)    # fontsize of the tick labels\n",
    "plt.rc('legend', fontsize=SMALL_SIZE)    # legend fontsize\n",
    "plt.rc('figure', titlesize=BIGGER_SIZE)  # fontsize of the figure title"
   ]
  },
  {
   "cell_type": "code",
   "execution_count": null,
   "metadata": {},
   "outputs": [],
   "source": [
    "test_list = data['test'].unique().tolist()\n",
    "test_image_size_list = data['test_image_size'].unique().tolist()\n",
    "train_image_size_list = data['train_image_size'].unique().tolist()\n",
    "test_contrast_reduce_list = data['test_contrast_reduce'].unique().tolist()\n",
    "train_contrast_reduce_list = data['train_contrast_reduce'].unique().tolist()\n",
    "\n",
    "print(test_list)\n",
    "print(test_image_size_list)\n",
    "print(train_image_size_list)\n",
    "print(test_contrast_reduce_list)\n",
    "print(train_contrast_reduce_list)"
   ]
  },
  {
   "cell_type": "code",
   "execution_count": null,
   "metadata": {},
   "outputs": [],
   "source": [
    "thres_size = 7\n",
    "thres_acc = 0\n",
    "for train_image_size in train_image_size_list:\n",
    "    for train_contract_reduce in train_contrast_reduce_list:\n",
    "        output_folder = f\"analysis_visual/resnet18/diff_data/contrast_reduce/train_image_size_{train_image_size}_train_contract_reduce_{train_contract_reduce}/\"\n",
    "        Path(output_folder).mkdir(parents=True, exist_ok=True)\n",
    "        for test in test_list:\n",
    "            for image_size in test_image_size_list:\n",
    "                if image_size >= thres_size:\n",
    "                    test_image_size_data = data[(data.test == test) & (data['train_image_size'] == train_image_size) & (data['train_contrast_reduce'] == train_contract_reduce) & (data['test_image_size'] == image_size) & (data['test_image_size'] <= train_image_size) & (data['avg accuracy'] >=thres_acc)]\n",
    "                    test_image_size_data['test_contrast_reduce']=pd.Categorical(test_image_size_data['test_contrast_reduce'],categories=['1-20', '21-40', '41-60', '61-80', '81-100', '101-120', '121-140', '141-160', '161-180', '181-200'])\n",
    "                    test_image_size_data=test_image_size_data.sort_values(['test_contrast_reduce'])\n",
    "                    plt.plot(test_image_size_data['test_contrast_reduce'], test_image_size_data['+ accuracy'], label= '+ accuracy')\n",
    "                    plt.plot(test_image_size_data['test_contrast_reduce'], test_image_size_data['- accuracy'], label= '- accuracy')\n",
    "                    plt.plot(test_image_size_data['test_contrast_reduce'], test_image_size_data['avg accuracy'], label= 'avg accuracy')\n",
    "                    plt.xlabel('test contrast reduce') \n",
    "                    plt.ylabel('accuracy') \n",
    "                    plt.title(f\"Line graph of accuracy of train image size {train_image_size} train contract reduce {train_contract_reduce} in test image size {image_size} for {test}\")\n",
    "                    plt.legend()\n",
    "                    output_path = output_folder+f\"resnet18_{test}_testIs{image_size}_bs4_e10_resize0.5.png\"\n",
    "                    plt.savefig(output_path)\n",
    "                    plt.show()"
   ]
  },
  {
   "cell_type": "code",
   "execution_count": null,
   "metadata": {},
   "outputs": [],
   "source": [
    "thres_size = 7\n",
    "thres_acc = 0\n",
    "\n",
    "for train_image_size in train_image_size_list:\n",
    "    for train_contrast_reduce in train_contrast_reduce_list:\n",
    "        output_folder = f\"analysis_visual/resnet18/diff_data/image_size/train_image_size_{train_image_size}_train_contract_reduce_{train_contrast_reduce}/\"\n",
    "        Path(output_folder).mkdir(parents=True, exist_ok=True)\n",
    "        for test in test_list:\n",
    "            for contrast_reduce in test_contrast_reduce_list:\n",
    "                test_contrast_reduce_data = data[(data.test == test) & (data['train_image_size'] == train_image_size) & (data['train_contrast_reduce'] == train_contrast_reduce) & (data['test_contrast_reduce'] == contrast_reduce) & (data['test_image_size'] <= train_image_size) & (data['avg accuracy'] >=thres_acc)]\n",
    "                # test_contrast_reduce_data['test_image_size']=pd.Categorical(test_image_size_data['test_image_size'],categories=['1-20', '21-40', '41-60', '61-80', '81-100', '101-120', '121-140', '141-160', '161-180', '181-200'])\n",
    "                test_contrast_reduce_data=test_contrast_reduce_data.sort_values(['test_image_size'])\n",
    "                plt.plot(test_contrast_reduce_data['test_image_size'], test_contrast_reduce_data['+ accuracy'], label= '+ accuracy')\n",
    "                plt.plot(test_contrast_reduce_data['test_image_size'], test_contrast_reduce_data['- accuracy'], label= '- accuracy')\n",
    "                plt.plot(test_contrast_reduce_data['test_image_size'], test_contrast_reduce_data['avg accuracy'], label= 'avg accuracy')\n",
    "                plt.xlabel('test image size') \n",
    "                plt.ylabel('accuracy') \n",
    "                plt.title(f\"Line graph of accuracy of train image size {train_image_size} train contract reduce {train_contrast_reduce} in test contrast reduce {contrast_reduce} for {test}\")\n",
    "                plt.legend()\n",
    "                output_path = output_folder+f\"resnet18_{test}_testCr{contrast_reduce}_bs4_e10_resize0.5.png\"\n",
    "                plt.savefig(output_path)\n",
    "                plt.show()"
   ]
  }
 ],
 "metadata": {
  "kernelspec": {
   "display_name": "Python 3",
   "language": "python",
   "name": "python3"
  },
  "language_info": {
   "codemirror_mode": {
    "name": "ipython",
    "version": 3
   },
   "file_extension": ".py",
   "mimetype": "text/x-python",
   "name": "python",
   "nbconvert_exporter": "python",
   "pygments_lexer": "ipython3",
   "version": "3.10.11"
  },
  "orig_nbformat": 4
 },
 "nbformat": 4,
 "nbformat_minor": 2
}
