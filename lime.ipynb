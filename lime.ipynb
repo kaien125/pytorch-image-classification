{
 "cells": [
  {
   "attachments": {},
   "cell_type": "markdown",
   "metadata": {},
   "source": [
    "This is an example of the LIME explainer for image data. This explainer only supports image classification tasks. If using this explainer, please cite the original work: https://github.com/marcotcr/lime."
   ]
  },
  {
   "cell_type": "code",
   "execution_count": 49,
   "metadata": {},
   "outputs": [],
   "source": [
    "import json\n",
    "import unittest\n",
    "import torch\n",
    "from torchvision import models, transforms\n",
    "from PIL import Image as PilImage\n",
    "from omnixai.data.image import Image\n",
    "from omnixai.explainers.vision import LimeImage"
   ]
  },
  {
   "attachments": {},
   "cell_type": "markdown",
   "metadata": {},
   "source": [
    "We recommend using Image to represent a batch of images. Image can be constructed from a numpy array or a Pillow image. The following code loads one test image and the class names on ImageNet."
   ]
  },
  {
   "cell_type": "code",
   "execution_count": 50,
   "metadata": {},
   "outputs": [],
   "source": [
    "# Load the test image\n",
    "img = Image(PilImage.open(r'images_resize0.5_contrastReduce1-20_num_image10000\\part_whole_test\\1\\g_min_l_plus+8.png').convert('RGB'))\n",
    "# Load the class names\n",
    "idx2label = ['0_plus', '1_min']"
   ]
  },
  {
   "cell_type": "code",
   "execution_count": 51,
   "metadata": {},
   "outputs": [],
   "source": [
    "img_size = 224\n",
    "model = torch.load(r'models\\resnet18_is224_bs4_e10_i10000_resize0.5_contrastReduce1-20_num_image10000.pth').to('cpu')\n",
    "transform = transforms.Compose([\n",
    "        transforms.Resize(size=img_size),\n",
    "        transforms.ToTensor(),\n",
    "        ])"
   ]
  },
  {
   "cell_type": "code",
   "execution_count": 52,
   "metadata": {},
   "outputs": [
    {
     "name": "stdout",
     "output_type": "stream",
     "text": [
      "((0.8095921, 0, '0_plus'), (0.19040795, 1, '1_min'))\n"
     ]
    }
   ],
   "source": [
    "model.eval()\n",
    "input_img = transform(img.to_pil()).unsqueeze(dim=0)\n",
    "probs_top_2 = torch.nn.functional.softmax(model(input_img), dim=1).topk(2)\n",
    "r = tuple((p, c, idx2label[c]) for p, c in\n",
    "          zip(probs_top_2[0][0].detach().numpy(), probs_top_2[1][0].detach().numpy()))\n",
    "print(r)"
   ]
  },
  {
   "cell_type": "code",
   "execution_count": 53,
   "metadata": {},
   "outputs": [
    {
     "data": {
      "application/vnd.jupyter.widget-view+json": {
       "model_id": "4ae9f493acd642068349e863f87b78be",
       "version_major": 2,
       "version_minor": 0
      },
      "text/plain": [
       "  0%|          | 0/1000 [00:00<?, ?it/s]"
      ]
     },
     "metadata": {},
     "output_type": "display_data"
    },
    {
     "data": {
      "application/vnd.plotly.v1+json": {
       "config": {
        "linkText": "Export to plot.ly",
        "plotlyServerURL": "https://plot.ly",
        "showLink": false
       },
       "data": [
        {
         "hovertemplate": "x: %{x}<br>y: %{y}<extra></extra>",
         "name": "0",
         "source": "data:image/png;base64,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",
         "type": "image",
         "xaxis": "x",
         "yaxis": "y"
        },
        {
         "hovertemplate": "x: %{x}<br>y: %{y}<extra></extra>",
         "name": "0",
         "source": "data:image/png;base64,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",
         "type": "image",
         "xaxis": "x2",
         "yaxis": "y2"
        }
       ],
       "layout": {
        "annotations": [
         {
          "font": {
           "size": 16
          },
          "showarrow": false,
          "text": "Class: 0_plus",
          "x": 0.225,
          "xanchor": "center",
          "xref": "paper",
          "y": 1,
          "yanchor": "bottom",
          "yref": "paper"
         },
         {
          "font": {
           "size": 16
          },
          "showarrow": false,
          "text": "Class: 1_min",
          "x": 0.775,
          "xanchor": "center",
          "xref": "paper",
          "y": 1,
          "yanchor": "bottom",
          "yref": "paper"
         }
        ],
        "template": {
         "data": {
          "bar": [
           {
            "error_x": {
             "color": "#2a3f5f"
            },
            "error_y": {
             "color": "#2a3f5f"
            },
            "marker": {
             "line": {
              "color": "#E5ECF6",
              "width": 0.5
             },
             "pattern": {
              "fillmode": "overlay",
              "size": 10,
              "solidity": 0.2
             }
            },
            "type": "bar"
           }
          ],
          "barpolar": [
           {
            "marker": {
             "line": {
              "color": "#E5ECF6",
              "width": 0.5
             },
             "pattern": {
              "fillmode": "overlay",
              "size": 10,
              "solidity": 0.2
             }
            },
            "type": "barpolar"
           }
          ],
          "carpet": [
           {
            "aaxis": {
             "endlinecolor": "#2a3f5f",
             "gridcolor": "white",
             "linecolor": "white",
             "minorgridcolor": "white",
             "startlinecolor": "#2a3f5f"
            },
            "baxis": {
             "endlinecolor": "#2a3f5f",
             "gridcolor": "white",
             "linecolor": "white",
             "minorgridcolor": "white",
             "startlinecolor": "#2a3f5f"
            },
            "type": "carpet"
           }
          ],
          "choropleth": [
           {
            "colorbar": {
             "outlinewidth": 0,
             "ticks": ""
            },
            "type": "choropleth"
           }
          ],
          "contour": [
           {
            "colorbar": {
             "outlinewidth": 0,
             "ticks": ""
            },
            "colorscale": [
             [
              0,
              "#0d0887"
             ],
             [
              0.1111111111111111,
              "#46039f"
             ],
             [
              0.2222222222222222,
              "#7201a8"
             ],
             [
              0.3333333333333333,
              "#9c179e"
             ],
             [
              0.4444444444444444,
              "#bd3786"
             ],
             [
              0.5555555555555556,
              "#d8576b"
             ],
             [
              0.6666666666666666,
              "#ed7953"
             ],
             [
              0.7777777777777778,
              "#fb9f3a"
             ],
             [
              0.8888888888888888,
              "#fdca26"
             ],
             [
              1,
              "#f0f921"
             ]
            ],
            "type": "contour"
           }
          ],
          "contourcarpet": [
           {
            "colorbar": {
             "outlinewidth": 0,
             "ticks": ""
            },
            "type": "contourcarpet"
           }
          ],
          "heatmap": [
           {
            "colorbar": {
             "outlinewidth": 0,
             "ticks": ""
            },
            "colorscale": [
             [
              0,
              "#0d0887"
             ],
             [
              0.1111111111111111,
              "#46039f"
             ],
             [
              0.2222222222222222,
              "#7201a8"
             ],
             [
              0.3333333333333333,
              "#9c179e"
             ],
             [
              0.4444444444444444,
              "#bd3786"
             ],
             [
              0.5555555555555556,
              "#d8576b"
             ],
             [
              0.6666666666666666,
              "#ed7953"
             ],
             [
              0.7777777777777778,
              "#fb9f3a"
             ],
             [
              0.8888888888888888,
              "#fdca26"
             ],
             [
              1,
              "#f0f921"
             ]
            ],
            "type": "heatmap"
           }
          ],
          "heatmapgl": [
           {
            "colorbar": {
             "outlinewidth": 0,
             "ticks": ""
            },
            "colorscale": [
             [
              0,
              "#0d0887"
             ],
             [
              0.1111111111111111,
              "#46039f"
             ],
             [
              0.2222222222222222,
              "#7201a8"
             ],
             [
              0.3333333333333333,
              "#9c179e"
             ],
             [
              0.4444444444444444,
              "#bd3786"
             ],
             [
              0.5555555555555556,
              "#d8576b"
             ],
             [
              0.6666666666666666,
              "#ed7953"
             ],
             [
              0.7777777777777778,
              "#fb9f3a"
             ],
             [
              0.8888888888888888,
              "#fdca26"
             ],
             [
              1,
              "#f0f921"
             ]
            ],
            "type": "heatmapgl"
           }
          ],
          "histogram": [
           {
            "marker": {
             "pattern": {
              "fillmode": "overlay",
              "size": 10,
              "solidity": 0.2
             }
            },
            "type": "histogram"
           }
          ],
          "histogram2d": [
           {
            "colorbar": {
             "outlinewidth": 0,
             "ticks": ""
            },
            "colorscale": [
             [
              0,
              "#0d0887"
             ],
             [
              0.1111111111111111,
              "#46039f"
             ],
             [
              0.2222222222222222,
              "#7201a8"
             ],
             [
              0.3333333333333333,
              "#9c179e"
             ],
             [
              0.4444444444444444,
              "#bd3786"
             ],
             [
              0.5555555555555556,
              "#d8576b"
             ],
             [
              0.6666666666666666,
              "#ed7953"
             ],
             [
              0.7777777777777778,
              "#fb9f3a"
             ],
             [
              0.8888888888888888,
              "#fdca26"
             ],
             [
              1,
              "#f0f921"
             ]
            ],
            "type": "histogram2d"
           }
          ],
          "histogram2dcontour": [
           {
            "colorbar": {
             "outlinewidth": 0,
             "ticks": ""
            },
            "colorscale": [
             [
              0,
              "#0d0887"
             ],
             [
              0.1111111111111111,
              "#46039f"
             ],
             [
              0.2222222222222222,
              "#7201a8"
             ],
             [
              0.3333333333333333,
              "#9c179e"
             ],
             [
              0.4444444444444444,
              "#bd3786"
             ],
             [
              0.5555555555555556,
              "#d8576b"
             ],
             [
              0.6666666666666666,
              "#ed7953"
             ],
             [
              0.7777777777777778,
              "#fb9f3a"
             ],
             [
              0.8888888888888888,
              "#fdca26"
             ],
             [
              1,
              "#f0f921"
             ]
            ],
            "type": "histogram2dcontour"
           }
          ],
          "mesh3d": [
           {
            "colorbar": {
             "outlinewidth": 0,
             "ticks": ""
            },
            "type": "mesh3d"
           }
          ],
          "parcoords": [
           {
            "line": {
             "colorbar": {
              "outlinewidth": 0,
              "ticks": ""
             }
            },
            "type": "parcoords"
           }
          ],
          "pie": [
           {
            "automargin": true,
            "type": "pie"
           }
          ],
          "scatter": [
           {
            "fillpattern": {
             "fillmode": "overlay",
             "size": 10,
             "solidity": 0.2
            },
            "type": "scatter"
           }
          ],
          "scatter3d": [
           {
            "line": {
             "colorbar": {
              "outlinewidth": 0,
              "ticks": ""
             }
            },
            "marker": {
             "colorbar": {
              "outlinewidth": 0,
              "ticks": ""
             }
            },
            "type": "scatter3d"
           }
          ],
          "scattercarpet": [
           {
            "marker": {
             "colorbar": {
              "outlinewidth": 0,
              "ticks": ""
             }
            },
            "type": "scattercarpet"
           }
          ],
          "scattergeo": [
           {
            "marker": {
             "colorbar": {
              "outlinewidth": 0,
              "ticks": ""
             }
            },
            "type": "scattergeo"
           }
          ],
          "scattergl": [
           {
            "marker": {
             "colorbar": {
              "outlinewidth": 0,
              "ticks": ""
             }
            },
            "type": "scattergl"
           }
          ],
          "scattermapbox": [
           {
            "marker": {
             "colorbar": {
              "outlinewidth": 0,
              "ticks": ""
             }
            },
            "type": "scattermapbox"
           }
          ],
          "scatterpolar": [
           {
            "marker": {
             "colorbar": {
              "outlinewidth": 0,
              "ticks": ""
             }
            },
            "type": "scatterpolar"
           }
          ],
          "scatterpolargl": [
           {
            "marker": {
             "colorbar": {
              "outlinewidth": 0,
              "ticks": ""
             }
            },
            "type": "scatterpolargl"
           }
          ],
          "scatterternary": [
           {
            "marker": {
             "colorbar": {
              "outlinewidth": 0,
              "ticks": ""
             }
            },
            "type": "scatterternary"
           }
          ],
          "surface": [
           {
            "colorbar": {
             "outlinewidth": 0,
             "ticks": ""
            },
            "colorscale": [
             [
              0,
              "#0d0887"
             ],
             [
              0.1111111111111111,
              "#46039f"
             ],
             [
              0.2222222222222222,
              "#7201a8"
             ],
             [
              0.3333333333333333,
              "#9c179e"
             ],
             [
              0.4444444444444444,
              "#bd3786"
             ],
             [
              0.5555555555555556,
              "#d8576b"
             ],
             [
              0.6666666666666666,
              "#ed7953"
             ],
             [
              0.7777777777777778,
              "#fb9f3a"
             ],
             [
              0.8888888888888888,
              "#fdca26"
             ],
             [
              1,
              "#f0f921"
             ]
            ],
            "type": "surface"
           }
          ],
          "table": [
           {
            "cells": {
             "fill": {
              "color": "#EBF0F8"
             },
             "line": {
              "color": "white"
             }
            },
            "header": {
             "fill": {
              "color": "#C8D4E3"
             },
             "line": {
              "color": "white"
             }
            },
            "type": "table"
           }
          ]
         },
         "layout": {
          "annotationdefaults": {
           "arrowcolor": "#2a3f5f",
           "arrowhead": 0,
           "arrowwidth": 1
          },
          "autotypenumbers": "strict",
          "coloraxis": {
           "colorbar": {
            "outlinewidth": 0,
            "ticks": ""
           }
          },
          "colorscale": {
           "diverging": [
            [
             0,
             "#8e0152"
            ],
            [
             0.1,
             "#c51b7d"
            ],
            [
             0.2,
             "#de77ae"
            ],
            [
             0.3,
             "#f1b6da"
            ],
            [
             0.4,
             "#fde0ef"
            ],
            [
             0.5,
             "#f7f7f7"
            ],
            [
             0.6,
             "#e6f5d0"
            ],
            [
             0.7,
             "#b8e186"
            ],
            [
             0.8,
             "#7fbc41"
            ],
            [
             0.9,
             "#4d9221"
            ],
            [
             1,
             "#276419"
            ]
           ],
           "sequential": [
            [
             0,
             "#0d0887"
            ],
            [
             0.1111111111111111,
             "#46039f"
            ],
            [
             0.2222222222222222,
             "#7201a8"
            ],
            [
             0.3333333333333333,
             "#9c179e"
            ],
            [
             0.4444444444444444,
             "#bd3786"
            ],
            [
             0.5555555555555556,
             "#d8576b"
            ],
            [
             0.6666666666666666,
             "#ed7953"
            ],
            [
             0.7777777777777778,
             "#fb9f3a"
            ],
            [
             0.8888888888888888,
             "#fdca26"
            ],
            [
             1,
             "#f0f921"
            ]
           ],
           "sequentialminus": [
            [
             0,
             "#0d0887"
            ],
            [
             0.1111111111111111,
             "#46039f"
            ],
            [
             0.2222222222222222,
             "#7201a8"
            ],
            [
             0.3333333333333333,
             "#9c179e"
            ],
            [
             0.4444444444444444,
             "#bd3786"
            ],
            [
             0.5555555555555556,
             "#d8576b"
            ],
            [
             0.6666666666666666,
             "#ed7953"
            ],
            [
             0.7777777777777778,
             "#fb9f3a"
            ],
            [
             0.8888888888888888,
             "#fdca26"
            ],
            [
             1,
             "#f0f921"
            ]
           ]
          },
          "colorway": [
           "#636efa",
           "#EF553B",
           "#00cc96",
           "#ab63fa",
           "#FFA15A",
           "#19d3f3",
           "#FF6692",
           "#B6E880",
           "#FF97FF",
           "#FECB52"
          ],
          "font": {
           "color": "#2a3f5f"
          },
          "geo": {
           "bgcolor": "white",
           "lakecolor": "white",
           "landcolor": "#E5ECF6",
           "showlakes": true,
           "showland": true,
           "subunitcolor": "white"
          },
          "hoverlabel": {
           "align": "left"
          },
          "hovermode": "closest",
          "mapbox": {
           "style": "light"
          },
          "paper_bgcolor": "white",
          "plot_bgcolor": "#E5ECF6",
          "polar": {
           "angularaxis": {
            "gridcolor": "white",
            "linecolor": "white",
            "ticks": ""
           },
           "bgcolor": "#E5ECF6",
           "radialaxis": {
            "gridcolor": "white",
            "linecolor": "white",
            "ticks": ""
           }
          },
          "scene": {
           "xaxis": {
            "backgroundcolor": "#E5ECF6",
            "gridcolor": "white",
            "gridwidth": 2,
            "linecolor": "white",
            "showbackground": true,
            "ticks": "",
            "zerolinecolor": "white"
           },
           "yaxis": {
            "backgroundcolor": "#E5ECF6",
            "gridcolor": "white",
            "gridwidth": 2,
            "linecolor": "white",
            "showbackground": true,
            "ticks": "",
            "zerolinecolor": "white"
           },
           "zaxis": {
            "backgroundcolor": "#E5ECF6",
            "gridcolor": "white",
            "gridwidth": 2,
            "linecolor": "white",
            "showbackground": true,
            "ticks": "",
            "zerolinecolor": "white"
           }
          },
          "shapedefaults": {
           "line": {
            "color": "#2a3f5f"
           }
          },
          "ternary": {
           "aaxis": {
            "gridcolor": "white",
            "linecolor": "white",
            "ticks": ""
           },
           "baxis": {
            "gridcolor": "white",
            "linecolor": "white",
            "ticks": ""
           },
           "bgcolor": "#E5ECF6",
           "caxis": {
            "gridcolor": "white",
            "linecolor": "white",
            "ticks": ""
           }
          },
          "title": {
           "x": 0.05
          },
          "xaxis": {
           "automargin": true,
           "gridcolor": "white",
           "linecolor": "white",
           "ticks": "",
           "title": {
            "standoff": 15
           },
           "zerolinecolor": "white",
           "zerolinewidth": 2
          },
          "yaxis": {
           "automargin": true,
           "gridcolor": "white",
           "linecolor": "white",
           "ticks": "",
           "title": {
            "standoff": 15
           },
           "zerolinecolor": "white",
           "zerolinewidth": 2
          }
         }
        },
        "xaxis": {
         "anchor": "y",
         "domain": [
          0,
          0.45
         ],
         "showticklabels": false,
         "visible": false
        },
        "xaxis2": {
         "anchor": "y2",
         "domain": [
          0.55,
          1
         ],
         "showticklabels": false,
         "visible": false
        },
        "yaxis": {
         "anchor": "x",
         "domain": [
          0,
          1
         ],
         "showticklabels": false,
         "visible": false
        },
        "yaxis2": {
         "anchor": "x2",
         "domain": [
          0,
          1
         ],
         "showticklabels": false,
         "visible": false
        }
       }
      }
     },
     "metadata": {},
     "output_type": "display_data"
    }
   ],
   "source": [
    "def batch_predict(images):\n",
    "    device = \"cuda\" if torch.cuda.is_available() else \"cpu\"\n",
    "    model.eval()\n",
    "    model.to(device)\n",
    "    batch = torch.stack([transform(img.to_pil()) for img in images])\n",
    "    batch = batch.to(device)\n",
    "    logits = model(batch)\n",
    "    probs = torch.nn.functional.softmax(logits, dim=1)\n",
    "    return probs.detach().cpu().numpy()\n",
    "\n",
    "explainer = LimeImage(predict_function=batch_predict)\n",
    "# Explain the top labels\n",
    "explanations = explainer.explain(img, hide_color=0, num_samples=1000)\n",
    "explanations.ipython_plot(index=0, class_names=idx2label)"
   ]
  },
  {
   "cell_type": "code",
   "execution_count": null,
   "metadata": {},
   "outputs": [],
   "source": []
  }
 ],
 "metadata": {
  "kernelspec": {
   "display_name": ".torch_env",
   "language": "python",
   "name": "python3"
  },
  "language_info": {
   "codemirror_mode": {
    "name": "ipython",
    "version": 3
   },
   "file_extension": ".py",
   "mimetype": "text/x-python",
   "name": "python",
   "nbconvert_exporter": "python",
   "pygments_lexer": "ipython3",
   "version": "3.10.11"
  },
  "orig_nbformat": 4
 },
 "nbformat": 4,
 "nbformat_minor": 2
}
